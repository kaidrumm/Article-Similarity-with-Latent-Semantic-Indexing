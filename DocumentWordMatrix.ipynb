{
  "nbformat": 4,
  "nbformat_minor": 0,
  "metadata": {
    "colab": {
      "name": "DocumentWordMatrix.ipynb",
      "provenance": [],
      "collapsed_sections": [],
      "authorship_tag": "ABX9TyPiKAG7PGERV8Xytdtejmco",
      "include_colab_link": true
    },
    "kernelspec": {
      "name": "python3",
      "display_name": "Python 3"
    },
    "language_info": {
      "name": "python"
    }
  },
  "cells": [
    {
      "cell_type": "markdown",
      "metadata": {
        "id": "view-in-github",
        "colab_type": "text"
      },
      "source": [
        "<a href=\"https://colab.research.google.com/github/kaidrumm/Article-Similarity-with-Latent-Semantic-Indexing/blob/main/DocumentWordMatrix.ipynb\" target=\"_parent\"><img src=\"https://colab.research.google.com/assets/colab-badge.svg\" alt=\"Open In Colab\"/></a>"
      ]
    },
    {
      "cell_type": "code",
      "metadata": {
        "colab": {
          "base_uri": "https://localhost:8080/"
        },
        "id": "w_MqrxeMMrU8",
        "outputId": "afd521c9-b87d-4580-bcce-69af76013d4a"
      },
      "source": [
        "from google.colab import drive\n",
        "\n",
        "import os\n",
        "import re\n",
        "from collections import Counter\n",
        "\n",
        "import pandas as pd\n",
        "import numpy as np\n",
        "\n",
        "from sklearn.feature_extraction.text import CountVectorizer\n",
        "from sklearn.feature_extraction.text import TfidfVectorizer\n",
        "from sklearn.decomposition import TruncatedSVD\n",
        "from sklearn.preprocessing import Normalizer\n",
        "\n",
        "from scipy.sparse import csc_matrix\n",
        "from scipy.sparse.linalg import svds, eigs\n",
        "from scipy.linalg import lu\n",
        "\n",
        "drive.mount(\"/content/gdrive\")"
      ],
      "execution_count": null,
      "outputs": [
        {
          "output_type": "stream",
          "text": [
            "Mounted at /content/gdrive\n"
          ],
          "name": "stdout"
        }
      ]
    },
    {
      "cell_type": "code",
      "metadata": {
        "colab": {
          "base_uri": "https://localhost:8080/"
        },
        "id": "KXdS_yrr-qWz",
        "outputId": "53b7425b-38d8-4356-aa8d-6aeb03ee12e2"
      },
      "source": [
        "# Example from Stanford online textbook (Manning)\n",
        "# nlp.stanford.edu/IR-book/html/htmledition/latent-semantic-indexing-1.html\n",
        "C = [[1,0,1,0,0,0],[0,1,0,0,0,0],[1,1,0,0,0,0],[1,0,0,1,1,0],[0,0,0,1,0,1]]\n",
        "\n",
        "# Round numbers when printing\n",
        "np.set_printoptions(precision=2)\n",
        "np.set_printoptions(suppress=True)\n",
        "\n",
        "# Factor the original matrix\n",
        "u, s, vh = np.linalg.svd(C)\n",
        "print(\"\\nMatrix U:\\n\",u)\n",
        "print(\"\\nSingular values:\\n\",s)\n",
        "print(\"\\nMatrix V^T:\\n\",vh)\n",
        "\n",
        "# Store sigma as diagonal matrix\n",
        "sigma = np.diag(s)\n",
        "\n",
        "# Store vT as v\n",
        "# Delete column associated with 0 singular value\n",
        "v = np.transpose(vh[:-1, :])\n",
        "\n",
        "# Reconstitute C2\n",
        "C2 = u @ sigma @ np.transpose(v)\n",
        "print(\"\\nOriginal matrix recreated from factors\\n\", C2)\n",
        "\n",
        "# Zeroing out sigma\n",
        "sigma[2:] = 0\n",
        "print(\"\\nSigma zeroed to 2 components:\\n\", sigma)\n",
        "C3 = sigma @ np.transpose(v)\n",
        "print(\"\\nC2 is U times truncated sigma\\n\", C3)\n",
        "\n",
        "# # Truncate matrices\n",
        "uprime = u[:, :2]\n",
        "sprime = sigma[:2, :2]\n",
        "vprime = v[:, :2]\n",
        "print(\"\\n U truncated:\\n\", uprime)\n",
        "print(\"\\nSigma truncated:\\n\", sprime)\n",
        "print(\"\\nVT truncated:\\n\", np.transpose(vprime))\n",
        "\n",
        "# print(uprime.shape)\n",
        "# print(sprime.shape)\n",
        "# print(vprime.shape)\n"
      ],
      "execution_count": null,
      "outputs": [
        {
          "output_type": "stream",
          "text": [
            "\n",
            "Matrix U:\n",
            " [[ 0.44 -0.3  -0.57  0.58 -0.25]\n",
            " [ 0.13 -0.33  0.59  0.   -0.73]\n",
            " [ 0.48 -0.51  0.37  0.    0.61]\n",
            " [ 0.7   0.35 -0.15 -0.58 -0.16]\n",
            " [ 0.26  0.65  0.41  0.58  0.09]]\n",
            "\n",
            "Singular values:\n",
            " [2.16 1.59 1.28 1.   0.39]\n",
            "\n",
            "Matrix V^T:\n",
            " [[ 0.75  0.28  0.2   0.45  0.33  0.12]\n",
            " [-0.29 -0.53 -0.19  0.63  0.22  0.41]\n",
            " [-0.28  0.75 -0.45  0.2  -0.12  0.33]\n",
            " [-0.    0.    0.58  0.   -0.58  0.58]\n",
            " [ 0.53 -0.29 -0.63 -0.19 -0.41  0.22]\n",
            " [-0.   -0.    0.   -0.58  0.58  0.58]]\n",
            "\n",
            "Original matrix recreated from factors\n",
            " [[ 1.  0.  1. -0.  0. -0.]\n",
            " [ 0.  1. -0. -0.  0. -0.]\n",
            " [ 1.  1. -0.  0. -0.  0.]\n",
            " [ 1.  0. -0.  1.  1.  0.]\n",
            " [-0. -0. -0.  1.  0.  1.]]\n",
            "\n",
            "Sigma zeroed to 2 components:\n",
            " [[2.16 0.   0.   0.   0.  ]\n",
            " [0.   1.59 0.   0.   0.  ]\n",
            " [0.   0.   0.   0.   0.  ]\n",
            " [0.   0.   0.   0.   0.  ]\n",
            " [0.   0.   0.   0.   0.  ]]\n",
            "\n",
            "C2 is U times truncated sigma\n",
            " [[ 1.62  0.6   0.44  0.97  0.7   0.26]\n",
            " [-0.46 -0.84 -0.3   1.    0.35  0.65]\n",
            " [ 0.    0.    0.    0.    0.    0.  ]\n",
            " [ 0.    0.    0.    0.    0.    0.  ]\n",
            " [ 0.    0.    0.    0.    0.    0.  ]]\n",
            "\n",
            " U truncated:\n",
            " [[ 0.44 -0.3 ]\n",
            " [ 0.13 -0.33]\n",
            " [ 0.48 -0.51]\n",
            " [ 0.7   0.35]\n",
            " [ 0.26  0.65]]\n",
            "\n",
            "Sigma truncated:\n",
            " [[2.16 0.  ]\n",
            " [0.   1.59]]\n",
            "\n",
            "VT truncated:\n",
            " [[ 0.75  0.28  0.2   0.45  0.33  0.12]\n",
            " [-0.29 -0.53 -0.19  0.63  0.22  0.41]]\n"
          ],
          "name": "stdout"
        }
      ]
    },
    {
      "cell_type": "code",
      "metadata": {
        "colab": {
          "base_uri": "https://localhost:8080/"
        },
        "id": "Ug3kJQiTZwC1",
        "outputId": "8757efd7-7478-4eea-ad09-c860689712ce"
      },
      "source": [
        "# Deerwester example\n",
        "C = [[1,0,0,1,0,0,0,0,0],[1,0,1,0,0,0,0,0,0],[1,1,0,0,0,0,0,0,0],\n",
        "     [0,1,1,0,1,0,0,0,0],[0,1,1,2,0,0,0,0,0],[0,1,0,0,1,0,0,0,0],\n",
        "     [0,1,0,0,1,0,0,0,0],[0,0,1,1,0,0,0,0,0],[0,1,0,0,0,0,0,0,1],\n",
        "     [0,0,0,0,0,1,1,1,0],[0,0,0,0,0,0,1,1,1],[0,0,0,0,0,0,0,1,1]]\n",
        "\n",
        "# Print with rounding\n",
        "np.set_printoptions(precision=2)\n",
        "np.set_printoptions(suppress=True)\n",
        "\n",
        "# Factor the original matrix\n",
        "# Matrix naming convention matches example paper\n",
        "# Full_matrices = False returns the factorization we are familiar with\n",
        "T0, S0, D0 = np.linalg.svd(C, full_matrices = False)\n",
        "\n",
        "print(\"\\nLeft side factor, T:\\n\", T0)\n",
        "print(\"\\nSingular values:\\n\", S0)\n",
        "print(\"\\nRight side factor, D:\\n\", D0)\n",
        "C_valid = T0 @ np.diag(S0) @ D0\n",
        "print(\"\\nOriginal matrix reconstructed from factors: \\n\", C_valid)\n",
        "\n",
        "# Truncate matrices\n",
        "T = T0[:, :2]\n",
        "S = np.diag(S0[:2])\n",
        "D = D0[:2, :]\n",
        "print(\"\\nLeft side truncated:\\n\", T)\n",
        "print(\"\\nSigma truncated:\\n\", S)\n",
        "print(\"\\nRight side truncated:\\n\", D)\n",
        "X = T@S@D\n",
        "print(\"\\nThe closest rank-2 approximation to C is:\\n\", X)\n",
        "\n",
        "# What about the query vector?\n",
        "query_vector = [1,2,3,4,0,0,0,0,0,0,0,0]\n",
        "print(\"\\nAn example query vector, original:\\n\", query_vector)\n",
        "sigma_k_inverse = np.linalg.inv(S)\n",
        "U_k_transposed = np.transpose(T)\n",
        "qk = sigma_k_inverse @ U_k_transposed @ query_vector\n",
        "print(\"\\nAn example query vector, in k-space:\\n\", qk)\n"
      ],
      "execution_count": null,
      "outputs": [
        {
          "output_type": "stream",
          "text": [
            "\n",
            "Left side factor, T:\n",
            " [[-0.22 -0.11  0.29 -0.41 -0.11 -0.34 -0.52  0.06  0.41]\n",
            " [-0.2  -0.07  0.14 -0.55  0.28  0.5   0.07  0.01  0.11]\n",
            " [-0.24  0.04 -0.16 -0.59 -0.11 -0.25  0.3  -0.06 -0.49]\n",
            " [-0.4   0.06 -0.34  0.1   0.33  0.38 -0.    0.   -0.01]\n",
            " [-0.64 -0.17  0.36  0.33 -0.16 -0.21  0.17 -0.03 -0.27]\n",
            " [-0.27  0.11 -0.43  0.07  0.08 -0.17 -0.28  0.02  0.05]\n",
            " [-0.27  0.11 -0.43  0.07  0.08 -0.17 -0.28  0.02  0.05]\n",
            " [-0.3  -0.14  0.33  0.19  0.11  0.27 -0.03  0.02  0.17]\n",
            " [-0.21  0.27 -0.18 -0.03 -0.54  0.08  0.47  0.04  0.58]\n",
            " [-0.01  0.49  0.23  0.02  0.59 -0.39  0.29 -0.25  0.23]\n",
            " [-0.04  0.62  0.22  0.   -0.07  0.11 -0.16  0.68 -0.23]\n",
            " [-0.03  0.45  0.14 -0.01 -0.3   0.28 -0.34 -0.68 -0.18]]\n",
            "\n",
            "Singular values:\n",
            " [3.34 2.54 2.35 1.64 1.5  1.31 0.85 0.56 0.36]\n",
            "\n",
            "Right side factor, D:\n",
            " [[-0.2  -0.61 -0.46 -0.54 -0.28 -0.   -0.01 -0.02 -0.08]\n",
            " [-0.06  0.17 -0.13 -0.23  0.11  0.19  0.44  0.62  0.53]\n",
            " [ 0.11 -0.5   0.21  0.57 -0.51  0.1   0.19  0.25  0.08]\n",
            " [-0.95 -0.03  0.04  0.27  0.15  0.02  0.02  0.01 -0.02]\n",
            " [ 0.05 -0.21  0.38 -0.21  0.33  0.39  0.35  0.15 -0.6 ]\n",
            " [-0.08 -0.26  0.72 -0.37  0.03 -0.3  -0.21  0.    0.36]\n",
            " [-0.18  0.43  0.24 -0.26 -0.67  0.34  0.15 -0.25 -0.04]\n",
            " [ 0.01 -0.05 -0.01  0.02  0.06 -0.45  0.76 -0.45  0.07]\n",
            " [ 0.06 -0.24 -0.02  0.08  0.26  0.62 -0.02 -0.52  0.45]]\n",
            "\n",
            "Original matrix reconstructed from factors: \n",
            " [[ 1.  0.  0.  1. -0.  0.  0. -0.  0.]\n",
            " [ 1.  0.  1.  0.  0. -0.  0.  0. -0.]\n",
            " [ 1.  1.  0. -0.  0.  0. -0. -0.  0.]\n",
            " [-0.  1.  1.  0.  1.  0. -0. -0. -0.]\n",
            " [-0.  1.  1.  2. -0. -0.  0.  0.  0.]\n",
            " [ 0.  1.  0. -0.  1. -0. -0. -0.  0.]\n",
            " [ 0.  1.  0. -0.  1.  0. -0. -0. -0.]\n",
            " [-0.  0.  1.  1.  0.  0.  0.  0. -0.]\n",
            " [ 0.  1. -0.  0. -0.  0.  0. -0.  1.]\n",
            " [-0. -0.  0.  0. -0.  1.  1.  1.  0.]\n",
            " [-0. -0.  0.  0. -0. -0.  1.  1.  1.]\n",
            " [-0. -0. -0.  0. -0.  0.  0.  1.  1.]]\n",
            "\n",
            "Left side truncated:\n",
            " [[-0.22 -0.11]\n",
            " [-0.2  -0.07]\n",
            " [-0.24  0.04]\n",
            " [-0.4   0.06]\n",
            " [-0.64 -0.17]\n",
            " [-0.27  0.11]\n",
            " [-0.27  0.11]\n",
            " [-0.3  -0.14]\n",
            " [-0.21  0.27]\n",
            " [-0.01  0.49]\n",
            " [-0.04  0.62]\n",
            " [-0.03  0.45]]\n",
            "\n",
            "Sigma truncated:\n",
            " [[3.34 0.  ]\n",
            " [0.   2.54]]\n",
            "\n",
            "Right side truncated:\n",
            " [[-0.2  -0.61 -0.46 -0.54 -0.28 -0.   -0.01 -0.02 -0.08]\n",
            " [-0.06  0.17 -0.13 -0.23  0.11  0.19  0.44  0.62  0.53]]\n",
            "\n",
            "The closest rank-2 approximation to C is:\n",
            " [[ 0.16  0.4   0.38  0.47  0.18 -0.05 -0.12 -0.16 -0.09]\n",
            " [ 0.14  0.37  0.33  0.4   0.16 -0.03 -0.07 -0.1  -0.04]\n",
            " [ 0.15  0.51  0.36  0.41  0.24  0.02  0.06  0.09  0.12]\n",
            " [ 0.26  0.84  0.61  0.7   0.39  0.03  0.08  0.12  0.19]\n",
            " [ 0.45  1.23  1.05  1.27  0.56 -0.07 -0.15 -0.21 -0.05]\n",
            " [ 0.16  0.58  0.38  0.42  0.28  0.06  0.13  0.19  0.22]\n",
            " [ 0.16  0.58  0.38  0.42  0.28  0.06  0.13  0.19  0.22]\n",
            " [ 0.22  0.55  0.51  0.63  0.24 -0.07 -0.14 -0.2  -0.11]\n",
            " [ 0.1   0.53  0.23  0.21  0.27  0.14  0.31  0.44  0.42]\n",
            " [-0.06  0.23 -0.14 -0.27  0.14  0.24  0.55  0.77  0.66]\n",
            " [-0.06  0.34 -0.15 -0.3   0.2   0.31  0.69  0.98  0.85]\n",
            " [-0.04  0.25 -0.1  -0.21  0.15  0.22  0.5   0.71  0.62]]\n",
            "\n",
            "An example query vector, original:\n",
            " [1, 2, 3, 4, 0, 0, 0, 0, 0, 0, 0, 0]\n",
            "\n",
            "An example query vector, in k-space:\n",
            " [-0.88  0.04]\n"
          ],
          "name": "stdout"
        }
      ]
    },
    {
      "cell_type": "code",
      "metadata": {
        "id": "5C5GZjYyVvXG"
      },
      "source": [
        "class DataReader:\n",
        "\n",
        "  # Stores words used as features\n",
        "  dictionary = []\n",
        "\n",
        "  # Data Frame holding training data\n",
        "  df_train = pd.DataFrame()\n",
        "\n",
        "  # Data Frame holding training data\n",
        "  df_test = pd.DataFrame()\n",
        "\n",
        "  # Data Frame where we keep track of hits and misses\n",
        "  df_compare = pd.DataFrame()\n",
        "\n",
        "  # Data Frame containing the transformed and normalized query vectors\n",
        "  qvs = pd.DataFrame\n",
        "\n",
        "  # Count of documents in training and test sets\n",
        "  n_docs = 0\n",
        "  n_queries = 0\n",
        "\n",
        "  # Settings\n",
        "  k = 0\n",
        "  component_names = []\n",
        "  tf = False\n",
        "  \n",
        "  # SVD Factorization\n",
        "  Uk = [] # Left matrix; document by factor\n",
        "  Uk_normed = [] # Right matrix, document by factor, normed\n",
        "  Sk = [] # Singular values\n",
        "  Vk = [] # Right matrix; term by factor\n",
        "\n",
        "  ###\n",
        "  # Init\n",
        "  ###\n",
        "  def __init__(self):\n",
        "    return\n",
        "\n",
        " \n",
        "  ###\n",
        "  # Train\n",
        "  # Initializes df_compare\n",
        "  ###\n",
        "  def train(self, k, tfidf=False):\n",
        "    self.k = k\n",
        "    self.component_names = [f'component_{i}' for i in range(self.k)] \n",
        "    self.tf = tfidf\n",
        "    # Collect data\n",
        "    self.training_inputs()\n",
        "    # Document Term Matrix\n",
        "    tdm_counts = self.vectorize(self.df_train.abstract)\n",
        "    # Singular Value Decomposition\n",
        "    svd = self.svd(tdm_counts.toarray(), k)\n",
        "    # Setup df_compare\n",
        "    df_doi = pd.DataFrame(self.df_train['doi'])\n",
        "    df_doi.index.name = \"n\"\n",
        "    df_uk = pd.DataFrame(self.Uk_normed)\n",
        "    df_uk.index.name = 'n'\n",
        "    self.df_compare = pd.merge(df_doi, df_uk, how='left', on='n')\n",
        "\n",
        "\n",
        "  ###\n",
        "  # Test\n",
        "  # Input: n = number of top results to match on\n",
        "  ###\n",
        "  def test(self, n):\n",
        "    # Collect data\n",
        "    self.testing_inputs()\n",
        "    # Generate query vectors\n",
        "    queries = self.vectorize(self.df_test['abstract'], query=True)\n",
        "    qn = self.normalize_query_vectors(np.transpose(queries.toarray()))\n",
        "    qvs = pd.DataFrame(qn, columns=self.df_test['test_doi'])\n",
        "    qvs.index = self.component_names\n",
        "    # Calculate cosine similarity\n",
        "    self.cos_sim(qvs, n)\n",
        "\n",
        "\n",
        "  ###\n",
        "  # Read training abstracts\n",
        "  # Input: File\n",
        "  # Output: Abstract and DOI as strings\n",
        "  ###\n",
        "  def read_training_abstract(self, f):\n",
        "    abstract = \"\"\n",
        "    doi = \"\"\n",
        "    regexp = re.compile(r'(10.(\\d)+/([^(\\s\\>\\\"\\<)])+)')\n",
        "    metadata=True\n",
        "    \n",
        "    # Skip past the metadata at the top\n",
        "    line = \".\"\n",
        "    while metadata and line:\n",
        "      line = f.readline()\n",
        "      m = regexp.search(line)\n",
        "      if m:\n",
        "        doi = m[0]\n",
        "      if line.strip() ==\"Abstract\":\n",
        "        metadata=False\n",
        "\n",
        "    # Now read the abstract\n",
        "    while line:\n",
        "      line = f.readline()\n",
        "      abstract += line.strip()\n",
        "    return(abstract, doi)\n",
        "\n",
        "\n",
        "  ###\n",
        "  # Read test abstracts\n",
        "  # Input: File\n",
        "  # Output: Abstract and DOIS as strings\n",
        "  ###\n",
        "  def read_test_abstract(self, f):\n",
        "    abstract = \"\"\n",
        "    test_doi = \"\"\n",
        "    train_doi = \"\"\n",
        "    regexp = re.compile(r'(10.(\\d)+/([^(\\s\\>\\\"\\<)])+)')\n",
        "    metadata=True\n",
        "    \n",
        "    # Skip past the metadata at the top\n",
        "    line = \".\"\n",
        "    while metadata and line:\n",
        "      line = f.readline()\n",
        "      m = regexp.search(line)\n",
        "      if m and line.startswith(\"TrainDOI\"):\n",
        "        train_doi = m[0]\n",
        "      elif m and line.startswith(\"TestDOI\"):\n",
        "        test_doi = m[0]\n",
        "      elif m:\n",
        "        print(\"Found unlabelled DOI\")\n",
        "      if line.strip()==\"Abstract:\":\n",
        "        metadata=False\n",
        "\n",
        "    # Now read the abstract\n",
        "    while line:\n",
        "      line = f.readline()\n",
        "      abstract += line.strip()\n",
        "    return(test_doi, train_doi, abstract)\n",
        "\n",
        "\n",
        "  ###\n",
        "  # Fetch abstracts from training folder\n",
        "  # Side effects: Fills in df_train and n_docs\n",
        "  ###\n",
        "  def training_inputs(self):\n",
        "    n_docs = 0\n",
        "    abstracts = []\n",
        "    dois = []\n",
        "    titles = []\n",
        "\n",
        "    directory = os.fsencode(\"/content/gdrive/MyDrive/LSIProject/dataset/papers/\")\n",
        "    for file in os.listdir(directory):\n",
        "      fn = os.fsdecode(file)\n",
        "      if fn.endswith(\".txt\"): \n",
        "        with open(f\"/content/gdrive/MyDrive/LSIProject/dataset/papers/{fn}\", \n",
        "                  'r') as f:\n",
        "          abstract, doi = self.read_training_abstract(f)\n",
        "          if not doi:\n",
        "            print(f'{fn} has no doi')\n",
        "          n_docs += 1\n",
        "          abstracts.append(abstract)\n",
        "          dois.append(doi)\n",
        "          titles.append(fn)\n",
        "    self.df_train = pd.DataFrame.from_dict({'doi': dois, 'title': titles, \n",
        "                                            'abstract': abstracts})\n",
        "    self.n_docs = n_docs\n",
        "\n",
        "\n",
        "  ###\n",
        "  # Fetch abstracts from test folder\n",
        "  # Side effects: Fills in df_test and n_queries\n",
        "  ###\n",
        "  def testing_inputs(self):\n",
        "    n_docs = 0\n",
        "    abstracts = []\n",
        "    test_dois = []\n",
        "    train_dois = []\n",
        "    titles = []\n",
        "\n",
        "    directory = os.fsencode(\"/content/gdrive/MyDrive/LSIProject/dataset/testset\")\n",
        "    for file in os.listdir(directory):\n",
        "      fn = os.fsdecode(file)\n",
        "      if fn.endswith(\".txt\"): \n",
        "        with open(f\"/content/gdrive/MyDrive/LSIProject/dataset/testset/{fn}\", \n",
        "                  'r') as f:\n",
        "          testdoi, traindoi, abstract = self.read_test_abstract(f)\n",
        "          abstracts.append(abstract)\n",
        "          test_dois.append(testdoi)\n",
        "          train_dois.append(traindoi)\n",
        "          titles.append(fn[:-4])\n",
        "          n_docs += 1\n",
        "    self.df_test = pd.DataFrame.from_dict({'test_doi': test_dois, \n",
        "                                           'target_doi': train_dois, \n",
        "                                           'title': titles, \n",
        "                                           'abstract': abstracts})\n",
        "    self.n_queries = n_docs\n",
        "\n",
        "\n",
        "  ###\n",
        "  # Vectorize with either counts or TF-IDF\n",
        "  # Input: Column of abstracts, query or training flag, \n",
        "  # threshhold is number of times a word should appear to be counted\n",
        "  # Output: Document-term matrix of shape (samples, features)\n",
        "  # Side effect: Stores dictionary of words used, if one is not present\n",
        "  ###\n",
        "  def vectorize(self, data, query=False, threshhold = 1):\n",
        "    if self.tf:\n",
        "      if query:\n",
        "        vectorizer = TfidfVectorizer(min_df=threshhold, stop_words='english', \n",
        "                                     vocabulary=self.dictionary)\n",
        "      else:\n",
        "       vectorizer = TfidfVectorizer(min_df=threshhold, stop_words='english')\n",
        "    else:\n",
        "      if query:\n",
        "        vectorizer = CountVectorizer(min_df=threshhold, stop_words=\"english\", \n",
        "                                     vocabulary=self.dictionary)\n",
        "      else:\n",
        "        vectorizer = CountVectorizer(min_df=threshhold, stop_words=\"english\")\n",
        "    tdmatrix = vectorizer.fit_transform(data).astype(float)\n",
        "    if not self.dictionary:\n",
        "      self.dictionary = vectorizer.get_feature_names()\n",
        "    return tdmatrix\n",
        "\n",
        "\n",
        "  ###\n",
        "  # Normalize Query Vector\n",
        "  # Input: Matrix where each column is a raw query vector\n",
        "  # Output: Matrix where each column is a query vector transformed \n",
        "  # into k-space and normalized\n",
        "  ###\n",
        "  def normalize_query_vectors(self, query):\n",
        "\n",
        "    # Transform into k-space\n",
        "    Sk_inverse = np.linalg.inv(self.Sk)\n",
        "    Vk_transposed = self.Vk\n",
        "    qk = Sk_inverse @ Vk_transposed @ query\n",
        "\n",
        "    # Normalize\n",
        "    normalizer = Normalizer()\n",
        "    qk_normed = normalizer.transform(np.transpose(qk))\n",
        "    return(np.transpose(qk_normed))\n",
        "\n",
        "\n",
        "  ###\n",
        "  # SVD\n",
        "  # Input: Term-document matrix, k = number of factors to reduce to\n",
        "  # Side effects: Store left-matrix U, sigma matrix S, and right-matrix V\n",
        "  ###\n",
        "  def svd(self, tdmatrix, k):\n",
        "\n",
        "    U0, S0, V0 = np.linalg.svd(tdmatrix, full_matrices=False)\n",
        "    np.set_printoptions(precision=2)\n",
        "    np.set_printoptions(suppress=True)\n",
        "\n",
        "    Uk = U0[:, :k]\n",
        "    Sk = np.diag(S0[:k])\n",
        "    Vk = V0[:k, :]\n",
        "    self.Uk = Uk\n",
        "    self.Sk = Sk\n",
        "    self.Vk = Vk\n",
        "\n",
        "    # Normalize all vectors in Uk\n",
        "    normalizer = Normalizer()\n",
        "    Uk_normed = normalizer.transform(Uk)\n",
        "    self.Uk_normed = Uk_normed\n",
        "\n",
        "\n",
        "  ###\n",
        "  # Similarity\n",
        "  # If all vectors are normed, you just need Vq - a matrix vector multiplication\n",
        "  # When you have many q vectors this becomes a matrix matrix multiplication\n",
        "  # Input: Matrix where each column is a Query vector normalized in k-space\n",
        "  # Side effects: df_test is a matrix where each column is the comparison of \n",
        "  # cosine similarities between query vector and all database vectors\n",
        "  ###\n",
        "  def cos_sim(self, qks_normed, n):\n",
        "    cossim = self.Uk_normed @ qks_normed\n",
        "    cossim_abs = cossim.abs()\n",
        "    answers = []\n",
        "\n",
        "    # For top n...\n",
        "    for column in cossim_abs:\n",
        "      topn = cossim_abs[column].nlargest(n, keep='all')\n",
        "      topn_dois = []\n",
        "      for t in topn:\n",
        "        idx = cossim_abs.loc[cossim_abs[column] == t].index[0]\n",
        "        #print(f'Test doi {column} had max cossim of {t} at position {idx} matching train doi {self.df_train.doi[idx]}')\n",
        "        topn_dois.append(self.df_train.doi[idx])\n",
        "      answers.append(tuple(topn_dois))\n",
        "    self.df_test['answer_doi'] = answers\n",
        "\n",
        "\n",
        "  ###\n",
        "  # Score\n",
        "  # Given a list of articles and a list of articles that they were linked to, \n",
        "  # score what % returned us back to the linked \"answer\"\n",
        "  # Input: DataFrame containing test DOI, target DOI, and DOI output\n",
        "  # Output: Count of correct answers\n",
        "  ###\n",
        "  def score(self):\n",
        "    score = 0\n",
        "    count = 0\n",
        "    for index, row in self.df_test.iterrows():\n",
        "      #print(f'Target: #{row[\"target_doi\"]}, Answer: #{row[\"answer_doi\"]}\\n')\n",
        "      if row['target_doi'] in row['answer_doi']:\n",
        "        score += 1\n",
        "      count += 1\n",
        "    if count == 0:\n",
        "      return 0\n",
        "    else:\n",
        "      return score/count\n",
        "\n",
        "\n",
        "  # Generate word clouds per component\n",
        "  # Uses the V matrix\n",
        "  # For each component, what are the top n words?\n",
        "  def word_clouds(self, n):\n",
        "    df = pd.DataFrame(np.transpose(self.Vk)).abs()\n",
        "    df.index = self.dictionary\n",
        "    display(df)\n",
        "\n",
        "    clouds = {} # List of list of strings\n",
        "\n",
        "    for column in df:\n",
        "      cloud = []\n",
        "      topn = df[column].nlargest(n, keep='all')\n",
        "      for i, t in enumerate(topn):\n",
        "        idx = df.loc[df[column] == t].index[0]\n",
        "        #print(f'Word with significance {t} is {idx}')\n",
        "        cloud.append(idx)\n",
        "        clouds[self.component_names[column]] = cloud\n",
        "\n",
        "    for c in self.component_names:\n",
        "      print(f'\\nWord cloud for {c}:')\n",
        "      print(clouds[c])\n",
        "\n",
        "\n",
        "  # Display top 5 documents per component\n",
        "  # Uses the U matrix\n",
        "  def document_clouds(self):\n",
        "    df = pd.DataFrame(self.Uk).abs()\n",
        "    df.index = self.df_train.title\n",
        "    df.columns = self.component_names\n",
        "    for c in self.component_names:\n",
        "      display(df.sort_values(by=c, ascending=False).head())\n",
        "\n",
        "\n",
        "  ###\n",
        "  # Graph\n",
        "  # Plot first two dimensions from document-factor matrix\n",
        "  # Output: Images of 2d vectors or scatterplot\n",
        "  ###\n",
        "  def graph(self):\n",
        "    data = self.Uk_normed\n",
        "    xs = [w[0] for w in data]\n",
        "    ys = [w[1] for w in data]\n",
        "    xo = [0 for w in data]\n",
        "    yo = [0 for w in data]\n",
        "\n",
        "    %pylab inline\n",
        "    import matplotlib.pyplot as plt\n",
        "    figure()\n",
        "    plt.scatter(xs, ys)\n",
        "    xlabel('Component 0')\n",
        "    ylabel('Component 1')\n",
        "    title('TF-IDF Document-Concept Correlations over First Two Components')\n",
        "    # Can label points with DOIs to identify outliers\n",
        "    # for i, doi in self.df_train['doi'].iteritems():\n",
        "    #   plt.annotate(doi, (xs[i], ys[i]))\n",
        "    show()\n",
        "\n",
        "    %pylab inline\n",
        "    plt.figure()\n",
        "    ax = plt.gca()\n",
        "    ax.quiver(xo, yo, xs, ys, angles=\"xy\", scale_units='xy', scale=1.)\n",
        "    ax.set_xlim([-1,1])\n",
        "    ax.set_ylim([-1,1])\n",
        "    xlabel('First Component')\n",
        "    ylabel('Second Component')\n",
        "    title('TF-IDF Document-Concept Correlations over First Two Components')\n",
        "    plt.draw()\n",
        "    plt.show()\n",
        "\n",
        "\n",
        "###\n",
        "# Main\n",
        "###\n",
        "reader = DataReader()"
      ],
      "execution_count": null,
      "outputs": []
    },
    {
      "cell_type": "code",
      "metadata": {
        "id": "5FXUj2nBkQIM"
      },
      "source": [
        "abstracts = reader.train(2, True)"
      ],
      "execution_count": null,
      "outputs": []
    },
    {
      "cell_type": "code",
      "metadata": {
        "id": "SM7TVr3yxY9t"
      },
      "source": [
        "#display(reader.df_train.head())"
      ],
      "execution_count": null,
      "outputs": []
    },
    {
      "cell_type": "code",
      "metadata": {
        "colab": {
          "base_uri": "https://localhost:8080/",
          "height": 438
        },
        "id": "S1qp50rzw6kT",
        "outputId": "613e9d74-48d8-461f-b197-aad40cdddec8"
      },
      "source": [
        "reader.document_clouds()"
      ],
      "execution_count": null,
      "outputs": [
        {
          "output_type": "display_data",
          "data": {
            "text/html": [
              "<div>\n",
              "<style scoped>\n",
              "    .dataframe tbody tr th:only-of-type {\n",
              "        vertical-align: middle;\n",
              "    }\n",
              "\n",
              "    .dataframe tbody tr th {\n",
              "        vertical-align: top;\n",
              "    }\n",
              "\n",
              "    .dataframe thead th {\n",
              "        text-align: right;\n",
              "    }\n",
              "</style>\n",
              "<table border=\"1\" class=\"dataframe\">\n",
              "  <thead>\n",
              "    <tr style=\"text-align: right;\">\n",
              "      <th></th>\n",
              "      <th>component_0</th>\n",
              "      <th>component_1</th>\n",
              "    </tr>\n",
              "    <tr>\n",
              "      <th>title</th>\n",
              "      <th></th>\n",
              "      <th></th>\n",
              "    </tr>\n",
              "  </thead>\n",
              "  <tbody>\n",
              "    <tr>\n",
              "      <th>Molecular_Mechanism_of_Evolution_He_Jiahua.txt</th>\n",
              "      <td>0.223214</td>\n",
              "      <td>0.221483</td>\n",
              "    </tr>\n",
              "    <tr>\n",
              "      <th>Systemic-Mucosal-Antibody-Responses_Cervia.txt</th>\n",
              "      <td>0.207835</td>\n",
              "      <td>0.015998</td>\n",
              "    </tr>\n",
              "    <tr>\n",
              "      <th>Structural_basis_of_receptor_Shang_Jian.txt</th>\n",
              "      <td>0.206248</td>\n",
              "      <td>0.292478</td>\n",
              "    </tr>\n",
              "    <tr>\n",
              "      <th>Different-Innate-Adaptive-Immune_Carsetti.txt</th>\n",
              "      <td>0.197183</td>\n",
              "      <td>0.050524</td>\n",
              "    </tr>\n",
              "    <tr>\n",
              "      <th>Cell_entry_mechanisms_Shang_Jian.txt</th>\n",
              "      <td>0.195851</td>\n",
              "      <td>0.240576</td>\n",
              "    </tr>\n",
              "  </tbody>\n",
              "</table>\n",
              "</div>"
            ],
            "text/plain": [
              "                                                component_0  component_1\n",
              "title                                                                   \n",
              "Molecular_Mechanism_of_Evolution_He_Jiahua.txt     0.223214     0.221483\n",
              "Systemic-Mucosal-Antibody-Responses_Cervia.txt     0.207835     0.015998\n",
              "Structural_basis_of_receptor_Shang_Jian.txt        0.206248     0.292478\n",
              "Different-Innate-Adaptive-Immune_Carsetti.txt      0.197183     0.050524\n",
              "Cell_entry_mechanisms_Shang_Jian.txt               0.195851     0.240576"
            ]
          },
          "metadata": {
            "tags": []
          }
        },
        {
          "output_type": "display_data",
          "data": {
            "text/html": [
              "<div>\n",
              "<style scoped>\n",
              "    .dataframe tbody tr th:only-of-type {\n",
              "        vertical-align: middle;\n",
              "    }\n",
              "\n",
              "    .dataframe tbody tr th {\n",
              "        vertical-align: top;\n",
              "    }\n",
              "\n",
              "    .dataframe thead th {\n",
              "        text-align: right;\n",
              "    }\n",
              "</style>\n",
              "<table border=\"1\" class=\"dataframe\">\n",
              "  <thead>\n",
              "    <tr style=\"text-align: right;\">\n",
              "      <th></th>\n",
              "      <th>component_0</th>\n",
              "      <th>component_1</th>\n",
              "    </tr>\n",
              "    <tr>\n",
              "      <th>title</th>\n",
              "      <th></th>\n",
              "      <th></th>\n",
              "    </tr>\n",
              "  </thead>\n",
              "  <tbody>\n",
              "    <tr>\n",
              "      <th>Safety-Immunogenicity-Recombinant-Tandem_Yang.txt</th>\n",
              "      <td>0.071135</td>\n",
              "      <td>0.405404</td>\n",
              "    </tr>\n",
              "    <tr>\n",
              "      <th>Safety-Immunogenicity-Inactivated-SARSCOV2_Xia.txt</th>\n",
              "      <td>0.065414</td>\n",
              "      <td>0.398616</td>\n",
              "    </tr>\n",
              "    <tr>\n",
              "      <th>Structural_basis_of_receptor_Shang_Jian.txt</th>\n",
              "      <td>0.206248</td>\n",
              "      <td>0.292478</td>\n",
              "    </tr>\n",
              "    <tr>\n",
              "      <th>Immunogenicity-Safety-Recombinant-Adenovirus_Zhu.txt</th>\n",
              "      <td>0.085597</td>\n",
              "      <td>0.289533</td>\n",
              "    </tr>\n",
              "    <tr>\n",
              "      <th>Cell_entry_mechanisms_Shang_Jian.txt</th>\n",
              "      <td>0.195851</td>\n",
              "      <td>0.240576</td>\n",
              "    </tr>\n",
              "  </tbody>\n",
              "</table>\n",
              "</div>"
            ],
            "text/plain": [
              "                                                    component_0  component_1\n",
              "title                                                                       \n",
              "Safety-Immunogenicity-Recombinant-Tandem_Yang.txt      0.071135     0.405404\n",
              "Safety-Immunogenicity-Inactivated-SARSCOV2_Xia.txt     0.065414     0.398616\n",
              "Structural_basis_of_receptor_Shang_Jian.txt            0.206248     0.292478\n",
              "Immunogenicity-Safety-Recombinant-Adenovirus_Zh...     0.085597     0.289533\n",
              "Cell_entry_mechanisms_Shang_Jian.txt                   0.195851     0.240576"
            ]
          },
          "metadata": {
            "tags": []
          }
        }
      ]
    },
    {
      "cell_type": "code",
      "metadata": {
        "colab": {
          "base_uri": "https://localhost:8080/",
          "height": 513
        },
        "id": "aahEfVlnPgc6",
        "outputId": "a1fc0899-dade-40df-bc53-1dafcbb84bee"
      },
      "source": [
        "reader.word_clouds(10)"
      ],
      "execution_count": null,
      "outputs": [
        {
          "output_type": "display_data",
          "data": {
            "text/html": [
              "<div>\n",
              "<style scoped>\n",
              "    .dataframe tbody tr th:only-of-type {\n",
              "        vertical-align: middle;\n",
              "    }\n",
              "\n",
              "    .dataframe tbody tr th {\n",
              "        vertical-align: top;\n",
              "    }\n",
              "\n",
              "    .dataframe thead th {\n",
              "        text-align: right;\n",
              "    }\n",
              "</style>\n",
              "<table border=\"1\" class=\"dataframe\">\n",
              "  <thead>\n",
              "    <tr style=\"text-align: right;\">\n",
              "      <th></th>\n",
              "      <th>0</th>\n",
              "      <th>1</th>\n",
              "    </tr>\n",
              "  </thead>\n",
              "  <tbody>\n",
              "    <tr>\n",
              "      <th>000</th>\n",
              "      <td>0.019012</td>\n",
              "      <td>0.006573</td>\n",
              "    </tr>\n",
              "    <tr>\n",
              "      <th>001</th>\n",
              "      <td>0.000597</td>\n",
              "      <td>0.006115</td>\n",
              "    </tr>\n",
              "    <tr>\n",
              "      <th>005</th>\n",
              "      <td>0.000984</td>\n",
              "      <td>0.003135</td>\n",
              "    </tr>\n",
              "    <tr>\n",
              "      <th>008</th>\n",
              "      <td>0.002756</td>\n",
              "      <td>0.003512</td>\n",
              "    </tr>\n",
              "    <tr>\n",
              "      <th>009</th>\n",
              "      <td>0.000984</td>\n",
              "      <td>0.003135</td>\n",
              "    </tr>\n",
              "    <tr>\n",
              "      <th>...</th>\n",
              "      <td>...</td>\n",
              "      <td>...</td>\n",
              "    </tr>\n",
              "    <tr>\n",
              "      <th>î²</th>\n",
              "      <td>0.005035</td>\n",
              "      <td>0.001558</td>\n",
              "    </tr>\n",
              "    <tr>\n",
              "      <th>î³</th>\n",
              "      <td>0.005357</td>\n",
              "      <td>0.005907</td>\n",
              "    </tr>\n",
              "    <tr>\n",
              "      <th>î¼g</th>\n",
              "      <td>0.016071</td>\n",
              "      <td>0.017722</td>\n",
              "    </tr>\n",
              "    <tr>\n",
              "      <th>ƞ2p</th>\n",
              "      <td>0.003934</td>\n",
              "      <td>0.012539</td>\n",
              "    </tr>\n",
              "    <tr>\n",
              "      <th>μg</th>\n",
              "      <td>0.034276</td>\n",
              "      <td>0.340644</td>\n",
              "    </tr>\n",
              "  </tbody>\n",
              "</table>\n",
              "<p>2423 rows × 2 columns</p>\n",
              "</div>"
            ],
            "text/plain": [
              "            0         1\n",
              "000  0.019012  0.006573\n",
              "001  0.000597  0.006115\n",
              "005  0.000984  0.003135\n",
              "008  0.002756  0.003512\n",
              "009  0.000984  0.003135\n",
              "..        ...       ...\n",
              "î²   0.005035  0.001558\n",
              "î³   0.005357  0.005907\n",
              "î¼g  0.016071  0.017722\n",
              "ƞ2p  0.003934  0.012539\n",
              "μg   0.034276  0.340644\n",
              "\n",
              "[2423 rows x 2 columns]"
            ]
          },
          "metadata": {
            "tags": []
          }
        },
        {
          "output_type": "stream",
          "text": [
            "\n",
            "Word cloud for component_0:\n",
            "['sars', 'cov', 'covid', '19', 'ace2', 'rbd', 'vaccine', 'coronavirus', 'patients', 'specific']\n",
            "\n",
            "Word cloud for component_1:\n",
            "['μg', 'vaccine', 'sars', 'dose', 'group', 'rbd', 'cov', 'ace2', 'days', '19']\n"
          ],
          "name": "stdout"
        }
      ]
    },
    {
      "cell_type": "code",
      "metadata": {
        "colab": {
          "base_uri": "https://localhost:8080/",
          "height": 608
        },
        "id": "94vxPJXpWz4Q",
        "outputId": "ac4160fa-332e-4a71-a70a-701ff0042d9f"
      },
      "source": [
        "reader.graph()"
      ],
      "execution_count": null,
      "outputs": [
        {
          "output_type": "stream",
          "text": [
            "Populating the interactive namespace from numpy and matplotlib\n"
          ],
          "name": "stdout"
        },
        {
          "output_type": "display_data",
          "data": {
            "image/png": "[encoded data removed]",
            "text/plain": [
              "<Figure size 432x288 with 1 Axes>"
            ]
          },
          "metadata": {
            "tags": [],
            "needs_background": "light"
          }
        },
        {
          "output_type": "stream",
          "text": [
            "Populating the interactive namespace from numpy and matplotlib\n"
          ],
          "name": "stdout"
        },
        {
          "output_type": "display_data",
          "data": {
            "image/png": "[encoded data removed]",
            "text/plain": [
              "<Figure size 432x288 with 1 Axes>"
            ]
          },
          "metadata": {
            "tags": [],
            "needs_background": "light"
          }
        }
      ]
    },
    {
      "cell_type": "code",
      "metadata": {
        "id": "xEhmp63IkrlT"
      },
      "source": [
        "# print(reader.dictionary)\n",
        "reader.test(5)"
      ],
      "execution_count": null,
      "outputs": []
    },
    {
      "cell_type": "code",
      "metadata": {
        "colab": {
          "base_uri": "https://localhost:8080/"
        },
        "id": "X1BpnvV_nTwm",
        "outputId": "435fe7d6-f28a-4216-8231-b6143a410584"
      },
      "source": [
        "reader.n_docs"
      ],
      "execution_count": null,
      "outputs": [
        {
          "output_type": "execute_result",
          "data": {
            "text/plain": [
              "55"
            ]
          },
          "metadata": {
            "tags": []
          },
          "execution_count": 134
        }
      ]
    },
    {
      "cell_type": "code",
      "metadata": {
        "colab": {
          "base_uri": "https://localhost:8080/"
        },
        "id": "3UjiZhpUnXYo",
        "outputId": "cea85fd5-af0b-447e-ac0b-48865a4fa613"
      },
      "source": [
        "reader.n_queries"
      ],
      "execution_count": null,
      "outputs": [
        {
          "output_type": "execute_result",
          "data": {
            "text/plain": [
              "25"
            ]
          },
          "metadata": {
            "tags": []
          },
          "execution_count": 135
        }
      ]
    },
    {
      "cell_type": "code",
      "metadata": {
        "colab": {
          "base_uri": "https://localhost:8080/",
          "height": 1406
        },
        "id": "el9yasoGSCVe",
        "outputId": "32a5e1f5-b5bf-4b4b-c822-f2a5cfce5c7c"
      },
      "source": [
        "results_cv = [[],[],[],[],[]]\n",
        "results_tv = [[],[],[],[],[]]\n",
        "a = 54\n",
        "for n in range (1, 6):\n",
        "  results_cv[n-1].append(NaN)\n",
        "  results_cv[n-1].append(NaN)\n",
        "  results_tv[n-1].append(NaN)\n",
        "  results_tv[n-1].append(NaN)\n",
        "  for k in range(2, a):\n",
        "    reader = DataReader()\n",
        "    reader.train(k, False)\n",
        "    reader.test(n)\n",
        "    results_cv[n-1].append(reader.score()*100)\n",
        "    reader2 = DataReader()\n",
        "    reader2.train(k, True)\n",
        "    reader2.test(n)\n",
        "    results_tv[n-1].append(reader2.score()*100)\n",
        "  chart = pd.DataFrame.from_dict({'Count': results_cv[n-1], 'TF-IDF': results_tv[n-1]})\n",
        "  fig = chart.plot(xlabel='Number of Latent Semantic Factors', ylabel='Accuracy percentage', title=f'Search accuracy in top {n} matches', ylim=(0, 100)).get_figure()\n",
        "  \n",
        "  fig.savefig(f'plot{n}-{a}.png')\n",
        "\n",
        "# print(results_cv)\n",
        "# print(results_tv)"
      ],
      "execution_count": null,
      "outputs": [
        {
          "output_type": "display_data",
          "data": {
            "image/png": "[encoded data removed]",
            "text/plain": [
              "<Figure size 432x288 with 1 Axes>"
            ]
          },
          "metadata": {
            "tags": [],
            "needs_background": "light"
          }
        },
        {
          "output_type": "display_data",
          "data": {
            "image/png": "[encoded data removed]",
            "text/plain": [
              "<Figure size 432x288 with 1 Axes>"
            ]
          },
          "metadata": {
            "tags": [],
            "needs_background": "light"
          }
        },
        {
          "output_type": "display_data",
          "data": {
            "image/png": "[encoded data removed]",
            "text/plain": [
              "<Figure size 432x288 with 1 Axes>"
            ]
          },
          "metadata": {
            "tags": [],
            "needs_background": "light"
          }
        },
        {
          "output_type": "display_data",
          "data": {
            "image/png": "[encoded data removed]",
            "text/plain": [
              "<Figure size 432x288 with 1 Axes>"
            ]
          },
          "metadata": {
            "tags": [],
            "needs_background": "light"
          }
        },
        {
          "output_type": "display_data",
          "data": {
            "image/png": "[encoded data removed]",
            "text/plain": [
              "<Figure size 432x288 with 1 Axes>"
            ]
          },
          "metadata": {
            "tags": [],
            "needs_background": "light"
          }
        }
      ]
    },
    {
      "cell_type": "code",
      "metadata": {
        "id": "T4sCStJ9fXrP"
      },
      "source": [
        ""
      ],
      "execution_count": null,
      "outputs": []
    },
    {
      "cell_type": "markdown",
      "metadata": {
        "id": "PN_9UeFnCzbm"
      },
      "source": [
        ""
      ]
    }
  ]
}